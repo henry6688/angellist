{
 "cells": [
  {
   "cell_type": "code",
   "execution_count": null,
   "metadata": {
    "collapsed": true
   },
   "outputs": [],
   "source": [
    "from importlib import reload\n",
    "from website import frontend"
   ]
  },
  {
   "cell_type": "code",
   "execution_count": 2,
   "metadata": {
    "collapsed": false,
    "scrolled": true
   },
   "outputs": [
    {
     "name": "stderr",
     "output_type": "stream",
     "text": [
      "Widget Javascript not detected.  It may not be installed properly. Did you enable the widgetsnbextension? If not, then run \"jupyter nbextension enable --py --sys-prefix widgetsnbextension\"\n",
      "Widget Javascript not detected.  It may not be installed properly. Did you enable the widgetsnbextension? If not, then run \"jupyter nbextension enable --py --sys-prefix widgetsnbextension\"\n"
     ]
    },
    {
     "data": {
      "text/plain": [
       "<website.frontend.GUI at 0x2809e4b80f0>"
      ]
     },
     "execution_count": 2,
     "metadata": {},
     "output_type": "execute_result"
    },
    {
     "name": "stdout",
     "output_type": "stream",
     "text": [
      "Results:\n",
      "a - $80.0\n",
      "b - $20.0\n",
      "Results:\n",
      "a - $80.0\n",
      "b - $20.0\n"
     ]
    }
   ],
   "source": [
    "reload(frontend)\n",
    "frontend.GUI()"
   ]
  }
 ],
 "metadata": {
  "anaconda-cloud": {},
  "kernelspec": {
   "display_name": "Python [default]",
   "language": "python",
   "name": "python3"
  },
  "language_info": {
   "codemirror_mode": {
    "name": "ipython",
    "version": 3
   },
   "file_extension": ".py",
   "mimetype": "text/x-python",
   "name": "python",
   "nbconvert_exporter": "python",
   "pygments_lexer": "ipython3",
   "version": "3.5.2"
  },
  "widgets": {
   "state": {
    "05ec5d196b074ea1b32d44c5f52832c1": {
     "views": [
      {
       "cell_index": 1.0
      }
     ]
    },
    "3f7aa61aa10041c8a13e9f97a7e4feb5": {
     "views": [
      {
       "cell_index": 1.0
      }
     ]
    },
    "4b98efc493d547d0957dc188ffbb3ff8": {
     "views": [
      {
       "cell_index": 1.0
      }
     ]
    },
    "b2b16827d72c4316a176c21d7d848a33": {
     "views": [
      {
       "cell_index": 1.0
      }
     ]
    }
   },
   "version": "1.2.0"
  }
 },
 "nbformat": 4,
 "nbformat_minor": 0
}
